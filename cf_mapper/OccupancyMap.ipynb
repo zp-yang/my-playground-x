{
 "cells": [
  {
   "cell_type": "code",
   "execution_count": 2,
   "id": "59553dae-4bf4-430a-8011-3690f9ca41b2",
   "metadata": {},
   "outputs": [],
   "source": [
    "import numpy as np\n",
    "import matplotlib.pyplot as plt"
   ]
  },
  {
   "cell_type": "code",
   "execution_count": 3,
   "id": "1a254e63-2e85-496a-8b26-77663b21a4f7",
   "metadata": {},
   "outputs": [],
   "source": [
    "class OccupancyMap:\n",
    "    \n",
    "    def __init__(self, w, h, res):\n",
    "        self.w = w\n",
    "        self.h = h\n",
    "        self.res = res\n",
    "        self.grid = np.zeros((int(self.w/self.res), int(self.h/self.res)))\n",
    "        \n",
    "    def plot_probability(self):\n",
    "        plt.imshow(self.grid.T, cmap=plt.get_cmap('binary'), extent=[\n",
    "            -self.w, self.w, -self.h, self.h])\n",
    "        plt.xlabel('x, m')\n",
    "        plt.ylabel('y, m')\n",
    "        plt.axis('equal')\n",
    "        plt.grid()\n",
    "\n",
    "    def plot_occupied(self, thresh=0.5):\n",
    "        plt.imshow(self.grid.T > thresh, cmap=plt.get_cmap('binary'), extent=[\n",
    "            -self.w, self.w, -self.h, self.h])\n",
    "        plt.xlabel('x, m')\n",
    "        plt.ylabel('y, m')\n",
    "        plt.axis('equal')\n",
    "        plt.grid()\n",
    "\n",
    "    def get_ij(self, x, y):\n",
    "        i = int(np.floor((x + self.w)/(2*self.res)))\n",
    "        j = int(np.floor((-y + self.h)/(2*self.res)))\n",
    "        if i < 0 or i >= self.grid.shape[0]:\n",
    "            raise ValueError('x out of bounds')\n",
    "        if j < 0 or j >= self.grid.shape[1]:\n",
    "            raise ValueError('y out of bounds')\n",
    "        return i, j\n",
    "    \n",
    "    def get_probability(self, x, y):\n",
    "        i, j = self.get_ij(x, y)\n",
    "        return self.grid[i, j]\n",
    "\n",
    "    def prob_update(self, i, j, prob):\n",
    "        p0 = self.grid[i,j]\n",
    "        alpha = 0.5\n",
    "        p = alpha*p0 + (1 - alpha)*prob\n",
    "        if p > 1:\n",
    "            p = 1\n",
    "        elif p < 0:\n",
    "            p = 0\n",
    "        self.grid[i, j] = p\n",
    "\n",
    "    def measure(self, x, y, theta, dist):\n",
    "        p = np.array([x, y])\n",
    "        R = np.array([\n",
    "            [np.cos(theta), -np.sin(theta)],\n",
    "            [np.sin(theta), np.cos(theta)]])\n",
    "        intersections = []\n",
    "        t_list = np.arange(0, dist, self.res/2)\n",
    "        for i_t, t in enumerate(t_list):\n",
    "            m = p + R@np.array([t, 0])\n",
    "            if i_t == len(t_list) - 1:\n",
    "                # positive information where we see things\n",
    "                prob = 1\n",
    "            else:\n",
    "                # negative information, where we don't see anything\n",
    "                prob = 0\n",
    "            try:\n",
    "                i, j = self.get_ij(m[0], m[1])\n",
    "                if len(intersections) == 0 or intersections[-1] != (i, j):\n",
    "                    intersections += [(i, j, prob)]\n",
    "            except ValueError as e:\n",
    "                continue\n",
    "        for i, m in enumerate(intersections):\n",
    "            self.prob_update(i=m[0], j=m[1], prob=m[2])\n",
    "    \n",
    "    def get_occupied(self, thresh=0.5):\n",
    "        return self.grid > thresh"
   ]
  },
  {
   "cell_type": "code",
   "execution_count": 4,
   "id": "f1d6b28f-c76f-48b4-a75b-cc406ecf56b1",
   "metadata": {},
   "outputs": [
    {
     "data": {
      "image/png": "[encoded data removed]",
      "text/plain": [
       "<Figure size 432x288 with 1 Axes>"
      ]
     },
     "metadata": {
      "needs_background": "light"
     },
     "output_type": "display_data"
    }
   ],
   "source": [
    "m = OccupancyMap(w=4, h=4, res=0.2)\n",
    "\n",
    "\n",
    "t_vect = np.arange(0, 10, 0.1)\n",
    "for t in t_vect:\n",
    "    \n",
    "    # SE(2) position of rover (x, y, theta)\n",
    "    x = 2*np.cos(t)\n",
    "    y = np.sin(t)\n",
    "    theta = np.deg2rad(1)\n",
    "\n",
    "    # this will change as robot gets new data\n",
    "    distances = [0.1, 1.2, 1.1, 1]\n",
    "    \n",
    "    # body fixed angles of sensors\n",
    "    angles = [0, -90, 90, 180]\n",
    "    for angle, dist in zip(angles, distances):\n",
    "        if dist > 1.4:\n",
    "            continue\n",
    "        m.measure(x, y, theta + np.deg2rad(angle), dist)\n",
    "\n",
    "m.plot_probability()"
   ]
  },
  {
   "cell_type": "code",
   "execution_count": 7,
   "id": "f168b8f9-e0e9-49dd-887e-ed5a758bfeff",
   "metadata": {},
   "outputs": [
    {
     "data": {
      "text/plain": [
       "0.984375"
      ]
     },
     "execution_count": 7,
     "metadata": {},
     "output_type": "execute_result"
    }
   ],
   "source": [
    "np.max(m.grid)"
   ]
  },
  {
   "cell_type": "code",
   "execution_count": 8,
   "id": "867331b9-7515-44f6-8376-cee76921afbf",
   "metadata": {},
   "outputs": [
    {
     "data": {
      "image/png": "[encoded data removed]",
      "text/plain": [
       "<Figure size 432x288 with 1 Axes>"
      ]
     },
     "metadata": {
      "needs_background": "light"
     },
     "output_type": "display_data"
    }
   ],
   "source": [
    "m.plot_occupied(thresh=0.5)"
   ]
  },
  {
   "cell_type": "code",
   "execution_count": 11,
   "id": "e09624ae-eb84-469e-b80e-d03f7b02a7bd",
   "metadata": {},
   "outputs": [
    {
     "data": {
      "image/png": "[encoded data removed]",
      "text/plain": [
       "<Figure size 360x360 with 1 Axes>"
      ]
     },
     "metadata": {
      "needs_background": "light"
     },
     "output_type": "display_data"
    }
   ],
   "source": [
    "fig, ax = plt.subplots(figsize=(5,5))\n",
    "title = ax.text(0.5,0.85, \"--\", bbox={'facecolor':'w', 'alpha':0.5, 'pad':5},\n",
    "                transform=ax.transAxes, ha=\"center\")\n",
    "im = ax.imshow(m.grid.T, animated=True)"
   ]
  },
  {
   "cell_type": "code",
   "execution_count": 14,
   "id": "2075f2ef",
   "metadata": {},
   "outputs": [],
   "source": [
    "grid = m.grid\n",
    "grid[0,0] = 0\n",
    "im.set_array(grid)\n",
    "plt.show()"
   ]
  },
  {
   "cell_type": "code",
   "execution_count": null,
   "id": "556036f8",
   "metadata": {},
   "outputs": [],
   "source": []
  }
 ],
 "metadata": {
  "kernelspec": {
   "display_name": "Python 3 (ipykernel)",
   "language": "python",
   "name": "python3"
  },
  "language_info": {
   "codemirror_mode": {
    "name": "ipython",
    "version": 3
   },
   "file_extension": ".py",
   "mimetype": "text/x-python",
   "name": "python",
   "nbconvert_exporter": "python",
   "pygments_lexer": "ipython3",
   "version": "3.9.7"
  }
 },
 "nbformat": 4,
 "nbformat_minor": 5
}
